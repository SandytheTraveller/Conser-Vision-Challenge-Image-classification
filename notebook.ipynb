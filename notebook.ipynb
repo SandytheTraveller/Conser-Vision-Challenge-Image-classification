{
 "cells": [
  {
   "cell_type": "markdown",
   "source": [
    "# Conser-vision Challenge: Image Classification\n",
    "\n",
    "Link to the competition: https://www.drivendata.org/competitions/87/competition-image-classification-wildlife-conservation/page/483/#features_tips\n"
   ],
   "metadata": {
    "collapsed": false
   },
   "id": "d1556c2c84fbd80f"
  },
  {
   "cell_type": "markdown",
   "source": [
    "## Importing the libraries"
   ],
   "metadata": {
    "collapsed": false
   },
   "id": "10cf99d64f6811ac"
  },
  {
   "cell_type": "code",
   "execution_count": 1,
   "id": "initial_id",
   "metadata": {
    "collapsed": true,
    "ExecuteTime": {
     "end_time": "2024-09-20T07:20:35.805891Z",
     "start_time": "2024-09-20T07:20:17.552675Z"
    }
   },
   "outputs": [],
   "source": [
    "import pandas as pd\n",
    "import numpy as np\n"
   ]
  },
  {
   "cell_type": "code",
   "outputs": [
    {
     "data": {
      "text/plain": "         id                     filepath   site\n0  ZJ000000  train_features/ZJ000000.jpg  S0120\n1  ZJ000001  train_features/ZJ000001.jpg  S0069\n2  ZJ000002  train_features/ZJ000002.jpg  S0009\n3  ZJ000003  train_features/ZJ000003.jpg  S0008\n4  ZJ000004  train_features/ZJ000004.jpg  S0036",
      "text/html": "<div>\n<style scoped>\n    .dataframe tbody tr th:only-of-type {\n        vertical-align: middle;\n    }\n\n    .dataframe tbody tr th {\n        vertical-align: top;\n    }\n\n    .dataframe thead th {\n        text-align: right;\n    }\n</style>\n<table border=\"1\" class=\"dataframe\">\n  <thead>\n    <tr style=\"text-align: right;\">\n      <th></th>\n      <th>id</th>\n      <th>filepath</th>\n      <th>site</th>\n    </tr>\n  </thead>\n  <tbody>\n    <tr>\n      <th>0</th>\n      <td>ZJ000000</td>\n      <td>train_features/ZJ000000.jpg</td>\n      <td>S0120</td>\n    </tr>\n    <tr>\n      <th>1</th>\n      <td>ZJ000001</td>\n      <td>train_features/ZJ000001.jpg</td>\n      <td>S0069</td>\n    </tr>\n    <tr>\n      <th>2</th>\n      <td>ZJ000002</td>\n      <td>train_features/ZJ000002.jpg</td>\n      <td>S0009</td>\n    </tr>\n    <tr>\n      <th>3</th>\n      <td>ZJ000003</td>\n      <td>train_features/ZJ000003.jpg</td>\n      <td>S0008</td>\n    </tr>\n    <tr>\n      <th>4</th>\n      <td>ZJ000004</td>\n      <td>train_features/ZJ000004.jpg</td>\n      <td>S0036</td>\n    </tr>\n  </tbody>\n</table>\n</div>"
     },
     "execution_count": 2,
     "metadata": {},
     "output_type": "execute_result"
    }
   ],
   "source": [
    "train_features = pd.read_csv('materials/train_features.csv')\n",
    "test_features = pd.read_csv('materials/test_features.csv')\n",
    "train_labels = pd.read_csv('materials/train_labels.csv')\n",
    "\n",
    "train_features.head()"
   ],
   "metadata": {
    "collapsed": false,
    "ExecuteTime": {
     "end_time": "2024-09-20T07:20:39.004641Z",
     "start_time": "2024-09-20T07:20:38.922152Z"
    }
   },
   "id": "1b665983388145c",
   "execution_count": 2
  },
  {
   "cell_type": "code",
   "outputs": [
    {
     "data": {
      "text/plain": "site\nS0060    1132\nS0009     664\nS0063     557\nS0008     541\nS0036     456\n         ... \nS0092       3\nS0079       2\nS0078       2\nS0178       2\nS0102       1\nName: count, Length: 148, dtype: int64"
     },
     "execution_count": 3,
     "metadata": {},
     "output_type": "execute_result"
    }
   ],
   "source": [
    "train_features.site.value_counts()"
   ],
   "metadata": {
    "collapsed": false,
    "ExecuteTime": {
     "end_time": "2024-09-20T07:21:01.019486Z",
     "start_time": "2024-09-20T07:21:01.011983Z"
    }
   },
   "id": "f44d1c4f3dd102ec",
   "execution_count": 3
  },
  {
   "cell_type": "code",
   "outputs": [
    {
     "data": {
      "text/plain": "(16488, 3)"
     },
     "execution_count": 4,
     "metadata": {},
     "output_type": "execute_result"
    }
   ],
   "source": [
    "train_features.shape"
   ],
   "metadata": {
    "collapsed": false,
    "ExecuteTime": {
     "end_time": "2024-09-20T07:21:15.625881Z",
     "start_time": "2024-09-20T07:21:15.620395Z"
    }
   },
   "id": "b2faa1e2a3d18d4b",
   "execution_count": 4
  },
  {
   "cell_type": "code",
   "outputs": [],
   "source": [],
   "metadata": {
    "collapsed": false
   },
   "id": "be24606b0042933e"
  }
 ],
 "metadata": {
  "kernelspec": {
   "display_name": "Python 3",
   "language": "python",
   "name": "python3"
  },
  "language_info": {
   "codemirror_mode": {
    "name": "ipython",
    "version": 2
   },
   "file_extension": ".py",
   "mimetype": "text/x-python",
   "name": "python",
   "nbconvert_exporter": "python",
   "pygments_lexer": "ipython2",
   "version": "2.7.6"
  }
 },
 "nbformat": 4,
 "nbformat_minor": 5
}
